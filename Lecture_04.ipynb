{
  "cells": [
    {
      "cell_type": "markdown",
      "id": "4884e76d-ee88-4820-9c2e-79343d6f17ac",
      "metadata": {
        "id": "4884e76d-ee88-4820-9c2e-79343d6f17ac"
      },
      "source": [
        "## 최소제곱법 이용"
      ]
    },
    {
      "cell_type": "code",
      "execution_count": null,
      "id": "45d22a71-e5ea-4eec-868c-74d6c6370286",
      "metadata": {
        "id": "45d22a71-e5ea-4eec-868c-74d6c6370286"
      },
      "outputs": [],
      "source": [
        "import numpy as np\n",
        "\n",
        "x = np.array([2,4,6,8]) #공부한 시간\n",
        "y = np.array([81,93,91,97]) #성적"
      ]
    },
    {
      "cell_type": "code",
      "execution_count": null,
      "id": "19a37c93-54dd-4704-b746-b3c4f12cf9e3",
      "metadata": {
        "id": "19a37c93-54dd-4704-b746-b3c4f12cf9e3",
        "outputId": "34b5c5b4-6c72-48fc-e0ed-03ce335aa43e"
      },
      "outputs": [
        {
          "name": "stdout",
          "output_type": "stream",
          "text": [
            "x의 평균값: 5.0\n",
            "y의 평균값: 90.5\n"
          ]
        }
      ],
      "source": [
        "x_mean = np.mean(x)\n",
        "y_mean = np.mean(y)\n",
        "\n",
        "print('x의 평균값:', x_mean)\n",
        "print('y의 평균값:', y_mean)"
      ]
    },
    {
      "cell_type": "markdown",
      "id": "ba74559c-0ad2-45d9-b213-5edc86853253",
      "metadata": {
        "id": "ba74559c-0ad2-45d9-b213-5edc86853253"
      },
      "source": [
        "### 최소 제곱근 공식 중 분모 값 (x-x평균)제곱의 합"
      ]
    },
    {
      "cell_type": "code",
      "execution_count": null,
      "id": "fa1da20e-b3d6-4e76-9593-76f25320559e",
      "metadata": {
        "id": "fa1da20e-b3d6-4e76-9593-76f25320559e"
      },
      "outputs": [],
      "source": [
        "denominator = sum([(j - x_mean)**2 for j in x])"
      ]
    },
    {
      "cell_type": "markdown",
      "id": "76075043-9b20-459b-9da0-0b00ac6b86da",
      "metadata": {
        "id": "76075043-9b20-459b-9da0-0b00ac6b86da"
      },
      "source": [
        "### 분자 값 (x-x평균)(y-y평균)의 합"
      ]
    },
    {
      "cell_type": "code",
      "execution_count": null,
      "id": "5de55078-c96e-4bde-a8a8-48d3cdc84461",
      "metadata": {
        "id": "5de55078-c96e-4bde-a8a8-48d3cdc84461"
      },
      "outputs": [],
      "source": [
        "def top(x, x_mean, y, y_mean):\n",
        "    d = 0\n",
        "    for j in range(len(x)):\n",
        "        d += (x[j] - x_mean) * (y[j] - y_mean)\n",
        "    return d\n",
        "\n",
        "numerator = top(x, x_mean, y, y_mean)"
      ]
    },
    {
      "cell_type": "code",
      "execution_count": null,
      "id": "3146aecb-fe7e-4805-a495-646b2d57c724",
      "metadata": {
        "id": "3146aecb-fe7e-4805-a495-646b2d57c724",
        "outputId": "970ba6bb-f1a0-466d-d4e6-708a089c9a6b"
      },
      "outputs": [
        {
          "name": "stdout",
          "output_type": "stream",
          "text": [
            "분모: 20.0\n",
            "분자: 46.0\n"
          ]
        }
      ],
      "source": [
        "print('분모:', denominator)\n",
        "print('분자:', numerator)"
      ]
    },
    {
      "cell_type": "code",
      "execution_count": null,
      "id": "461c4870-8bac-4747-9299-ae17947524f6",
      "metadata": {
        "id": "461c4870-8bac-4747-9299-ae17947524f6"
      },
      "outputs": [],
      "source": [
        "a = numerator / denominator"
      ]
    },
    {
      "cell_type": "code",
      "execution_count": null,
      "id": "4d845195-c4b1-4f97-a4d1-cebd2ec1a80a",
      "metadata": {
        "id": "4d845195-c4b1-4f97-a4d1-cebd2ec1a80a"
      },
      "outputs": [],
      "source": [
        "b = y_mean - (x_mean * a)"
      ]
    },
    {
      "cell_type": "code",
      "execution_count": null,
      "id": "95d8f4f7-9e95-41fa-921e-eaf724971dd3",
      "metadata": {
        "id": "95d8f4f7-9e95-41fa-921e-eaf724971dd3",
        "outputId": "f5f8533e-58a0-460d-d0e2-86e86e9b2bc1"
      },
      "outputs": [
        {
          "name": "stdout",
          "output_type": "stream",
          "text": [
            "기울기: 2.3\n",
            "y절편: 79.0\n"
          ]
        }
      ],
      "source": [
        "print('기울기:', a)\n",
        "print('y절편:', b)"
      ]
    },
    {
      "cell_type": "markdown",
      "id": "46c85a70-82c1-4359-82ef-d31cb845d296",
      "metadata": {
        "id": "46c85a70-82c1-4359-82ef-d31cb845d296"
      },
      "source": [
        "### 평균제곱오차"
      ]
    },
    {
      "cell_type": "code",
      "execution_count": null,
      "id": "7c3fed6f-f69f-4394-a90b-dea514c3546b",
      "metadata": {
        "id": "7c3fed6f-f69f-4394-a90b-dea514c3546b"
      },
      "outputs": [],
      "source": [
        "import numpy as np\n",
        "\n",
        "x = np.array([2,4,6,8])\n",
        "y = np.array([81,93,91,97])"
      ]
    },
    {
      "cell_type": "code",
      "execution_count": null,
      "id": "70b1bdbb-de19-456f-8ff9-472e97ff0804",
      "metadata": {
        "id": "70b1bdbb-de19-456f-8ff9-472e97ff0804"
      },
      "outputs": [],
      "source": [
        "def predict(x):\n",
        "    fake_a = 3\n",
        "    fake_b = 76\n",
        "    return fake_a * x + fake_b"
      ]
    },
    {
      "cell_type": "code",
      "execution_count": null,
      "id": "8b8b0292-bebc-49bb-9699-c65005642e31",
      "metadata": {
        "id": "8b8b0292-bebc-49bb-9699-c65005642e31"
      },
      "outputs": [],
      "source": [
        "y_pred = []"
      ]
    },
    {
      "cell_type": "code",
      "execution_count": null,
      "id": "1747b3bb-dfd8-45d5-8438-a6edc69481cb",
      "metadata": {
        "id": "1747b3bb-dfd8-45d5-8438-a6edc69481cb",
        "outputId": "549b7ea0-0228-4629-82e8-7fd503fa83e4"
      },
      "outputs": [
        {
          "name": "stdout",
          "output_type": "stream",
          "text": [
            "공부시간=2.000000, 실제점수=81, 예측점수=82\n",
            "공부시간=4.000000, 실제점수=93, 예측점수=88\n",
            "공부시간=6.000000, 실제점수=91, 예측점수=94\n",
            "공부시간=8.000000, 실제점수=97, 예측점수=100\n"
          ]
        }
      ],
      "source": [
        "for j in range(len(x)):\n",
        "    y_pred.append(predict(x[j]))\n",
        "    print('공부시간=%f, 실제점수=%.f, 예측점수=%.f' %(x[j], y[j], y_pred[j]))"
      ]
    },
    {
      "cell_type": "code",
      "execution_count": null,
      "id": "356e74a4-dce8-4dc6-bdc9-e9b49a907465",
      "metadata": {
        "id": "356e74a4-dce8-4dc6-bdc9-e9b49a907465",
        "outputId": "6586df5c-b38c-4ca7-dbfc-3e5d33f0b70b"
      },
      "outputs": [
        {
          "name": "stdout",
          "output_type": "stream",
          "text": [
            "평균 제곱 오차: 11.0\n"
          ]
        }
      ],
      "source": [
        "def mse(y, y_pred):\n",
        "    return (1/len(y)) * sum((y - y_pred) ** 2)\n",
        "\n",
        "print('평균 제곱 오차: ' + str(mse(y, y_pred)))"
      ]
    },
    {
      "cell_type": "code",
      "execution_count": null,
      "id": "256a017a-58df-4a41-ad73-0bef7dd1d620",
      "metadata": {
        "id": "256a017a-58df-4a41-ad73-0bef7dd1d620"
      },
      "outputs": [],
      "source": []
    }
  ],
  "metadata": {
    "kernelspec": {
      "display_name": "Python 3",
      "language": "python",
      "name": "python3"
    },
    "language_info": {
      "codemirror_mode": {
        "name": "ipython",
        "version": 3
      },
      "file_extension": ".py",
      "mimetype": "text/x-python",
      "name": "python",
      "nbconvert_exporter": "python",
      "pygments_lexer": "ipython3",
      "version": "3.8.8"
    },
    "colab": {
      "provenance": []
    }
  },
  "nbformat": 4,
  "nbformat_minor": 5
}