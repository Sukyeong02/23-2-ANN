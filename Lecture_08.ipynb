{
  "cells": [
    {
      "cell_type": "markdown",
      "metadata": {
        "id": "view-in-github",
        "colab_type": "text"
      },
      "source": [
        "<a href=\"https://colab.research.google.com/github/Sukyeong02/23-2-ANN/blob/main/Lecture_08.ipynb\" target=\"_parent\"><img src=\"https://colab.research.google.com/assets/colab-badge.svg\" alt=\"Open In Colab\"/></a>"
      ]
    },
    {
      "cell_type": "code",
      "execution_count": null,
      "id": "fc2b1a58-d44a-4979-aa30-103c694b9784",
      "metadata": {
        "id": "fc2b1a58-d44a-4979-aa30-103c694b9784"
      },
      "outputs": [],
      "source": [
        "import numpy as np\n",
        "\n",
        "w11 = np.array([-2, -2])\n",
        "w12 = np.array([2,2])\n",
        "w2 = np.array([1,1])\n",
        "b1 = 3\n",
        "b2 = -1\n",
        "b3 = -1"
      ]
    },
    {
      "cell_type": "code",
      "execution_count": null,
      "id": "0b28a05f-d089-4e04-9359-0529f5148056",
      "metadata": {
        "id": "0b28a05f-d089-4e04-9359-0529f5148056"
      },
      "outputs": [],
      "source": [
        "def MLP(x,w,b):\n",
        "    y = np.sum(w*x)+b\n",
        "    if y <= 0:\n",
        "        return 0\n",
        "    else:\n",
        "        return 1"
      ]
    },
    {
      "cell_type": "code",
      "execution_count": null,
      "id": "4434ca0d-76f7-4032-905f-dd41ed531ed5",
      "metadata": {
        "id": "4434ca0d-76f7-4032-905f-dd41ed531ed5",
        "outputId": "301092c5-bf76-4dfe-e2ec-2e659a7fd018"
      },
      "outputs": [
        {
          "name": "stdout",
          "output_type": "stream",
          "text": [
            "입력값:(0, 0)출력값:0\n",
            "입력값:(0, 1)출력값:1\n",
            "입력값:(1, 0)출력값:1\n",
            "입력값:(1, 1)출력값:0\n"
          ]
        }
      ],
      "source": [
        "def NAND (x1, x2):\n",
        "    return MLP(np.array([x1,x2]),w11,b1)\n",
        "\n",
        "def OR (x1, x2):\n",
        "    return MLP(np.array([x1,x2]),w12,b2)\n",
        "\n",
        "def AND(x1, x2):\n",
        "    return MLP(np.array([x1,x2]),w2,b3)\n",
        "\n",
        "def XOR(x1, x2):\n",
        "    return AND(NAND(x1, x2), OR(x1, x2))\n",
        "\n",
        "for x in [(0,0), (0,1), (1,0), (1,1)]:\n",
        "    y = XOR(x[0],x[1])\n",
        "    print('입력값:' + str(x) + '출력값:' + str(y))"
      ]
    },
    {
      "cell_type": "code",
      "execution_count": null,
      "id": "b037dccc-980f-4b56-b615-742df4fb6d00",
      "metadata": {
        "id": "b037dccc-980f-4b56-b615-742df4fb6d00"
      },
      "outputs": [],
      "source": []
    }
  ],
  "metadata": {
    "kernelspec": {
      "display_name": "Python 3",
      "language": "python",
      "name": "python3"
    },
    "language_info": {
      "codemirror_mode": {
        "name": "ipython",
        "version": 3
      },
      "file_extension": ".py",
      "mimetype": "text/x-python",
      "name": "python",
      "nbconvert_exporter": "python",
      "pygments_lexer": "ipython3",
      "version": "3.8.8"
    },
    "colab": {
      "provenance": [],
      "include_colab_link": true
    }
  },
  "nbformat": 4,
  "nbformat_minor": 5
}