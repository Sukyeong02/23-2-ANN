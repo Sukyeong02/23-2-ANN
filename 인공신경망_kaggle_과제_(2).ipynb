{
  "nbformat": 4,
  "nbformat_minor": 0,
  "metadata": {
    "colab": {
      "provenance": [],
      "gpuType": "T4",
      "mount_file_id": "1ARpz0EsMyv1cc5znSHqlsxcd_Jk7vrlf",
      "authorship_tag": "ABX9TyMCfFIklxJaMHT2JGUJStdS",
      "include_colab_link": true
    },
    "kernelspec": {
      "name": "python3",
      "display_name": "Python 3"
    },
    "language_info": {
      "name": "python"
    },
    "accelerator": "GPU"
  },
  "cells": [
    {
      "cell_type": "markdown",
      "metadata": {
        "id": "view-in-github",
        "colab_type": "text"
      },
      "source": [
        "<a href=\"https://colab.research.google.com/github/Sukyeong02/23-2-ANN/blob/main/%EC%9D%B8%EA%B3%B5%EC%8B%A0%EA%B2%BD%EB%A7%9D_kaggle_%EA%B3%BC%EC%A0%9C_(2).ipynb\" target=\"_parent\"><img src=\"https://colab.research.google.com/assets/colab-badge.svg\" alt=\"Open In Colab\"/></a>"
      ]
    },
    {
      "cell_type": "markdown",
      "source": [
        "## 얼굴 표정 기반 감정 인식"
      ],
      "metadata": {
        "id": "fH-0-9Vu0bHH"
      }
    },
    {
      "cell_type": "code",
      "execution_count": null,
      "metadata": {
        "id": "6hI8uJsz7m_l"
      },
      "outputs": [],
      "source": [
        "import numpy as np\n",
        "from keras.models import Sequential\n",
        "from keras.layers import Dense, Flatten, Input, BatchNormalization, Dropout, Conv2D, MaxPooling2D"
      ]
    },
    {
      "cell_type": "code",
      "source": [
        "data = np.load('/content/drive/MyDrive/23-2학기 코딩 수업/인공신경망과 딥러닝심화/train.npz')\n",
        "print(data.files)\n",
        "x_train = data['x']\n",
        "y_train = data['y']"
      ],
      "metadata": {
        "id": "8N86jSRkRH6w",
        "colab": {
          "base_uri": "https://localhost:8080/"
        },
        "outputId": "f6a73962-98e1-462b-f9b2-eb85646dcb7a"
      },
      "execution_count": null,
      "outputs": [
        {
          "output_type": "stream",
          "name": "stdout",
          "text": [
            "['x', 'y']\n"
          ]
        }
      ]
    },
    {
      "cell_type": "code",
      "source": [
        "from sklearn.model_selection import train_test_split\n",
        "\n",
        "x_train_scaled = x_train / 255.0\n",
        "\n",
        "x_train_scaled, x_val_scaled, y_train, y_val = train_test_split(x_train_scaled, y_train, train_size=0.8, random_state=42)"
      ],
      "metadata": {
        "id": "4rT9PxweRH3W"
      },
      "execution_count": null,
      "outputs": []
    },
    {
      "cell_type": "code",
      "source": [
        "model = Sequential()\n",
        "model.add(Conv2D(32, kernel_size=(3,3), activation=\"relu\", input_shape=(48,48,1)))\n",
        "model.add(MaxPooling2D(pool_size=(2,2)))\n",
        "model.add(Flatten())\n",
        "model.add(Dense(512, activation=\"relu\"))\n",
        "model.add(Dense(256, activation=\"relu\"))\n",
        "# model.add(BatchNormalization())\n",
        "model.add(Dropout(0.5))\n",
        "model.add(Dense(128, activation=\"relu\"))\n",
        "model.add(Dropout(0.3))\n",
        "model.add(Dense(64, activation=\"relu\"))\n",
        "model.add(Dense(32, activation=\"relu\"))\n",
        "model.add(Dense(16, activation=\"relu\"))\n",
        "# model.add(Dense(8, activation=\"relu\"))\n",
        "model.add(Dense(5, activation=\"softmax\"))"
      ],
      "metadata": {
        "id": "kZUhEKMWRHeL",
        "colab": {
          "base_uri": "https://localhost:8080/"
        },
        "outputId": "dbf167b0-dfba-498a-b1d0-ec17ef9c8742"
      },
      "execution_count": null,
      "outputs": [
        {
          "output_type": "stream",
          "name": "stderr",
          "text": [
            "/usr/local/lib/python3.10/dist-packages/keras/src/layers/convolutional/base_conv.py:107: UserWarning: Do not pass an `input_shape`/`input_dim` argument to a layer. When using Sequential models, prefer using an `Input(shape)` object as the first layer in the model instead.\n",
            "  super().__init__(activity_regularizer=activity_regularizer, **kwargs)\n"
          ]
        }
      ]
    },
    {
      "cell_type": "code",
      "source": [
        "model.compile( optimizer='adam', loss=\"sparse_categorical_crossentropy\", metrics=[\"accuracy\"])"
      ],
      "metadata": {
        "id": "VpqOEGktRHaq"
      },
      "execution_count": null,
      "outputs": []
    },
    {
      "cell_type": "code",
      "source": [
        "history = model.fit(x_train_scaled.reshape(-1, 48, 48, 1), y_train, epochs=85, verbose=2, validation_data=(x_val_scaled.reshape(-1, 48, 48, 1), y_val))"
      ],
      "metadata": {
        "id": "Jy25T86BRHY5",
        "colab": {
          "base_uri": "https://localhost:8080/"
        },
        "outputId": "e1f1d736-8cab-4a8f-c951-889600fcd538"
      },
      "execution_count": null,
      "outputs": [
        {
          "output_type": "stream",
          "name": "stdout",
          "text": [
            "Epoch 1/85\n",
            "739/739 - 19s - 25ms/step - accuracy: 0.4309 - loss: 1.2776 - val_accuracy: 0.5943 - val_loss: 1.0014\n",
            "Epoch 2/85\n",
            "739/739 - 8s - 10ms/step - accuracy: 0.6128 - loss: 0.9373 - val_accuracy: 0.6561 - val_loss: 0.8656\n",
            "Epoch 3/85\n",
            "739/739 - 5s - 7ms/step - accuracy: 0.6912 - loss: 0.7669 - val_accuracy: 0.6689 - val_loss: 0.8233\n",
            "Epoch 4/85\n",
            "739/739 - 5s - 7ms/step - accuracy: 0.7460 - loss: 0.6331 - val_accuracy: 0.6974 - val_loss: 0.8286\n",
            "Epoch 5/85\n",
            "739/739 - 6s - 7ms/step - accuracy: 0.8020 - loss: 0.5053 - val_accuracy: 0.6994 - val_loss: 0.8220\n",
            "Epoch 6/85\n",
            "739/739 - 3s - 4ms/step - accuracy: 0.8468 - loss: 0.3970 - val_accuracy: 0.6977 - val_loss: 0.8683\n",
            "Epoch 7/85\n",
            "739/739 - 5s - 7ms/step - accuracy: 0.8868 - loss: 0.3057 - val_accuracy: 0.7065 - val_loss: 1.0478\n",
            "Epoch 8/85\n",
            "739/739 - 4s - 5ms/step - accuracy: 0.9162 - loss: 0.2386 - val_accuracy: 0.7158 - val_loss: 1.0534\n",
            "Epoch 9/85\n",
            "739/739 - 3s - 4ms/step - accuracy: 0.9361 - loss: 0.1837 - val_accuracy: 0.7119 - val_loss: 1.0462\n",
            "Epoch 10/85\n",
            "739/739 - 3s - 4ms/step - accuracy: 0.9557 - loss: 0.1365 - val_accuracy: 0.6933 - val_loss: 1.2176\n",
            "Epoch 11/85\n",
            "739/739 - 3s - 4ms/step - accuracy: 0.9681 - loss: 0.1049 - val_accuracy: 0.6984 - val_loss: 1.3144\n",
            "Epoch 12/85\n",
            "739/739 - 4s - 5ms/step - accuracy: 0.9681 - loss: 0.1004 - val_accuracy: 0.7079 - val_loss: 1.4610\n",
            "Epoch 13/85\n",
            "739/739 - 3s - 4ms/step - accuracy: 0.9757 - loss: 0.0820 - val_accuracy: 0.7101 - val_loss: 1.5143\n",
            "Epoch 14/85\n",
            "739/739 - 3s - 4ms/step - accuracy: 0.9790 - loss: 0.0695 - val_accuracy: 0.6948 - val_loss: 1.6420\n",
            "Epoch 15/85\n",
            "739/739 - 6s - 8ms/step - accuracy: 0.9807 - loss: 0.0646 - val_accuracy: 0.7072 - val_loss: 1.5297\n",
            "Epoch 16/85\n",
            "739/739 - 3s - 5ms/step - accuracy: 0.9818 - loss: 0.0568 - val_accuracy: 0.7102 - val_loss: 1.6673\n",
            "Epoch 17/85\n",
            "739/739 - 5s - 7ms/step - accuracy: 0.9856 - loss: 0.0505 - val_accuracy: 0.7065 - val_loss: 1.6528\n",
            "Epoch 18/85\n",
            "739/739 - 3s - 5ms/step - accuracy: 0.9832 - loss: 0.0523 - val_accuracy: 0.7167 - val_loss: 1.6327\n",
            "Epoch 19/85\n",
            "739/739 - 4s - 5ms/step - accuracy: 0.9868 - loss: 0.0496 - val_accuracy: 0.7089 - val_loss: 1.7617\n",
            "Epoch 20/85\n",
            "739/739 - 5s - 6ms/step - accuracy: 0.9867 - loss: 0.0478 - val_accuracy: 0.7053 - val_loss: 1.5653\n",
            "Epoch 21/85\n",
            "739/739 - 5s - 7ms/step - accuracy: 0.9871 - loss: 0.0433 - val_accuracy: 0.7028 - val_loss: 1.6874\n",
            "Epoch 22/85\n",
            "739/739 - 5s - 6ms/step - accuracy: 0.9878 - loss: 0.0401 - val_accuracy: 0.7001 - val_loss: 1.9888\n",
            "Epoch 23/85\n",
            "739/739 - 5s - 7ms/step - accuracy: 0.9894 - loss: 0.0357 - val_accuracy: 0.7048 - val_loss: 1.8617\n",
            "Epoch 24/85\n",
            "739/739 - 4s - 5ms/step - accuracy: 0.9888 - loss: 0.0390 - val_accuracy: 0.6975 - val_loss: 1.7617\n",
            "Epoch 25/85\n",
            "739/739 - 5s - 6ms/step - accuracy: 0.9898 - loss: 0.0353 - val_accuracy: 0.6836 - val_loss: 2.0460\n",
            "Epoch 26/85\n",
            "739/739 - 3s - 4ms/step - accuracy: 0.9904 - loss: 0.0342 - val_accuracy: 0.7011 - val_loss: 1.9029\n",
            "Epoch 27/85\n",
            "739/739 - 6s - 8ms/step - accuracy: 0.9912 - loss: 0.0299 - val_accuracy: 0.7057 - val_loss: 1.8844\n",
            "Epoch 28/85\n",
            "739/739 - 5s - 6ms/step - accuracy: 0.9928 - loss: 0.0254 - val_accuracy: 0.7043 - val_loss: 2.0767\n",
            "Epoch 29/85\n",
            "739/739 - 3s - 4ms/step - accuracy: 0.9905 - loss: 0.0326 - val_accuracy: 0.6947 - val_loss: 2.1113\n",
            "Epoch 30/85\n",
            "739/739 - 6s - 8ms/step - accuracy: 0.9909 - loss: 0.0310 - val_accuracy: 0.7063 - val_loss: 2.1700\n",
            "Epoch 31/85\n",
            "739/739 - 5s - 6ms/step - accuracy: 0.9931 - loss: 0.0239 - val_accuracy: 0.7021 - val_loss: 2.0344\n",
            "Epoch 32/85\n",
            "739/739 - 3s - 4ms/step - accuracy: 0.9905 - loss: 0.0330 - val_accuracy: 0.7035 - val_loss: 2.0652\n",
            "Epoch 33/85\n",
            "739/739 - 6s - 8ms/step - accuracy: 0.9916 - loss: 0.0285 - val_accuracy: 0.7004 - val_loss: 1.6823\n",
            "Epoch 34/85\n",
            "739/739 - 4s - 6ms/step - accuracy: 0.9944 - loss: 0.0209 - val_accuracy: 0.7099 - val_loss: 2.2042\n",
            "Epoch 35/85\n",
            "739/739 - 3s - 4ms/step - accuracy: 0.9949 - loss: 0.0190 - val_accuracy: 0.7028 - val_loss: 1.8969\n",
            "Epoch 36/85\n",
            "739/739 - 4s - 5ms/step - accuracy: 0.9902 - loss: 0.0349 - val_accuracy: 0.6984 - val_loss: 2.2209\n",
            "Epoch 37/85\n",
            "739/739 - 5s - 7ms/step - accuracy: 0.9928 - loss: 0.0260 - val_accuracy: 0.6999 - val_loss: 2.0626\n",
            "Epoch 38/85\n",
            "739/739 - 5s - 7ms/step - accuracy: 0.9941 - loss: 0.0227 - val_accuracy: 0.7124 - val_loss: 2.2269\n",
            "Epoch 39/85\n",
            "739/739 - 4s - 5ms/step - accuracy: 0.9934 - loss: 0.0249 - val_accuracy: 0.7024 - val_loss: 2.1401\n",
            "Epoch 40/85\n",
            "739/739 - 5s - 6ms/step - accuracy: 0.9938 - loss: 0.0194 - val_accuracy: 0.7075 - val_loss: 2.6499\n",
            "Epoch 41/85\n",
            "739/739 - 5s - 7ms/step - accuracy: 0.9941 - loss: 0.0207 - val_accuracy: 0.7048 - val_loss: 2.2901\n",
            "Epoch 42/85\n",
            "739/739 - 4s - 5ms/step - accuracy: 0.9943 - loss: 0.0203 - val_accuracy: 0.7026 - val_loss: 2.1297\n",
            "Epoch 43/85\n",
            "739/739 - 3s - 4ms/step - accuracy: 0.9924 - loss: 0.0262 - val_accuracy: 0.7101 - val_loss: 2.3533\n",
            "Epoch 44/85\n",
            "739/739 - 5s - 7ms/step - accuracy: 0.9956 - loss: 0.0175 - val_accuracy: 0.6996 - val_loss: 2.2987\n",
            "Epoch 45/85\n",
            "739/739 - 6s - 8ms/step - accuracy: 0.9939 - loss: 0.0207 - val_accuracy: 0.7094 - val_loss: 2.4029\n",
            "Epoch 46/85\n",
            "739/739 - 4s - 6ms/step - accuracy: 0.9943 - loss: 0.0197 - val_accuracy: 0.7077 - val_loss: 2.2739\n",
            "Epoch 47/85\n",
            "739/739 - 5s - 7ms/step - accuracy: 0.9962 - loss: 0.0141 - val_accuracy: 0.6931 - val_loss: 2.7861\n",
            "Epoch 48/85\n",
            "739/739 - 4s - 5ms/step - accuracy: 0.9941 - loss: 0.0212 - val_accuracy: 0.7089 - val_loss: 2.4894\n",
            "Epoch 49/85\n",
            "739/739 - 3s - 4ms/step - accuracy: 0.9946 - loss: 0.0197 - val_accuracy: 0.6989 - val_loss: 2.1762\n",
            "Epoch 50/85\n",
            "739/739 - 3s - 4ms/step - accuracy: 0.9952 - loss: 0.0193 - val_accuracy: 0.7046 - val_loss: 2.3270\n",
            "Epoch 51/85\n",
            "739/739 - 3s - 4ms/step - accuracy: 0.9952 - loss: 0.0174 - val_accuracy: 0.7002 - val_loss: 2.2290\n",
            "Epoch 52/85\n",
            "739/739 - 5s - 7ms/step - accuracy: 0.9941 - loss: 0.0214 - val_accuracy: 0.6997 - val_loss: 2.4599\n",
            "Epoch 53/85\n",
            "739/739 - 3s - 4ms/step - accuracy: 0.9978 - loss: 0.0072 - val_accuracy: 0.7019 - val_loss: 2.8590\n",
            "Epoch 54/85\n",
            "739/739 - 3s - 4ms/step - accuracy: 0.9944 - loss: 0.0189 - val_accuracy: 0.7018 - val_loss: 2.8155\n",
            "Epoch 55/85\n",
            "739/739 - 6s - 8ms/step - accuracy: 0.9954 - loss: 0.0206 - val_accuracy: 0.6970 - val_loss: 2.2329\n",
            "Epoch 56/85\n",
            "739/739 - 5s - 6ms/step - accuracy: 0.9961 - loss: 0.0145 - val_accuracy: 0.7117 - val_loss: 2.5334\n",
            "Epoch 57/85\n",
            "739/739 - 3s - 4ms/step - accuracy: 0.9971 - loss: 0.0098 - val_accuracy: 0.7073 - val_loss: 2.6683\n",
            "Epoch 58/85\n",
            "739/739 - 4s - 5ms/step - accuracy: 0.9966 - loss: 0.0142 - val_accuracy: 0.7018 - val_loss: 2.6429\n",
            "Epoch 59/85\n",
            "739/739 - 3s - 5ms/step - accuracy: 0.9959 - loss: 0.0167 - val_accuracy: 0.7048 - val_loss: 2.6447\n",
            "Epoch 60/85\n",
            "739/739 - 5s - 7ms/step - accuracy: 0.9964 - loss: 0.0172 - val_accuracy: 0.7073 - val_loss: 2.3806\n",
            "Epoch 61/85\n",
            "739/739 - 6s - 7ms/step - accuracy: 0.9959 - loss: 0.0177 - val_accuracy: 0.7016 - val_loss: 2.2821\n",
            "Epoch 62/85\n",
            "739/739 - 5s - 6ms/step - accuracy: 0.9961 - loss: 0.0159 - val_accuracy: 0.7004 - val_loss: 2.4654\n",
            "Epoch 63/85\n",
            "739/739 - 5s - 7ms/step - accuracy: 0.9948 - loss: 0.0206 - val_accuracy: 0.6991 - val_loss: 2.2585\n",
            "Epoch 64/85\n",
            "739/739 - 4s - 5ms/step - accuracy: 0.9967 - loss: 0.0173 - val_accuracy: 0.7040 - val_loss: 2.6892\n",
            "Epoch 65/85\n",
            "739/739 - 4s - 6ms/step - accuracy: 0.9936 - loss: 0.0233 - val_accuracy: 0.7024 - val_loss: 2.1886\n",
            "Epoch 66/85\n",
            "739/739 - 3s - 4ms/step - accuracy: 0.9970 - loss: 0.0112 - val_accuracy: 0.6872 - val_loss: 2.7581\n",
            "Epoch 67/85\n",
            "739/739 - 6s - 8ms/step - accuracy: 0.9956 - loss: 0.0170 - val_accuracy: 0.7067 - val_loss: 2.2813\n",
            "Epoch 68/85\n",
            "739/739 - 3s - 4ms/step - accuracy: 0.9954 - loss: 0.0180 - val_accuracy: 0.6997 - val_loss: 2.2205\n",
            "Epoch 69/85\n",
            "739/739 - 3s - 4ms/step - accuracy: 0.9975 - loss: 0.0092 - val_accuracy: 0.7077 - val_loss: 2.9797\n",
            "Epoch 70/85\n",
            "739/739 - 3s - 4ms/step - accuracy: 0.9951 - loss: 0.0173 - val_accuracy: 0.7051 - val_loss: 2.6767\n",
            "Epoch 71/85\n",
            "739/739 - 4s - 5ms/step - accuracy: 0.9959 - loss: 0.0148 - val_accuracy: 0.6938 - val_loss: 2.6181\n",
            "Epoch 72/85\n",
            "739/739 - 4s - 6ms/step - accuracy: 0.9957 - loss: 0.0158 - val_accuracy: 0.7062 - val_loss: 2.6435\n",
            "Epoch 73/85\n",
            "739/739 - 5s - 7ms/step - accuracy: 0.9977 - loss: 0.0088 - val_accuracy: 0.7014 - val_loss: 2.8384\n",
            "Epoch 74/85\n",
            "739/739 - 5s - 7ms/step - accuracy: 0.9975 - loss: 0.0091 - val_accuracy: 0.6994 - val_loss: 3.1188\n",
            "Epoch 75/85\n",
            "739/739 - 3s - 4ms/step - accuracy: 0.9956 - loss: 0.0189 - val_accuracy: 0.6975 - val_loss: 2.4554\n",
            "Epoch 76/85\n",
            "739/739 - 3s - 4ms/step - accuracy: 0.9964 - loss: 0.0133 - val_accuracy: 0.7089 - val_loss: 2.7128\n",
            "Epoch 77/85\n",
            "739/739 - 6s - 8ms/step - accuracy: 0.9968 - loss: 0.0122 - val_accuracy: 0.6979 - val_loss: 2.7281\n",
            "Epoch 78/85\n",
            "739/739 - 5s - 6ms/step - accuracy: 0.9981 - loss: 0.0069 - val_accuracy: 0.7087 - val_loss: 3.6769\n",
            "Epoch 79/85\n",
            "739/739 - 3s - 4ms/step - accuracy: 0.9966 - loss: 0.0123 - val_accuracy: 0.7126 - val_loss: 2.4975\n",
            "Epoch 80/85\n",
            "739/739 - 6s - 8ms/step - accuracy: 0.9973 - loss: 0.0145 - val_accuracy: 0.7104 - val_loss: 2.3552\n",
            "Epoch 81/85\n",
            "739/739 - 3s - 4ms/step - accuracy: 0.9959 - loss: 0.0181 - val_accuracy: 0.6980 - val_loss: 2.9208\n",
            "Epoch 82/85\n",
            "739/739 - 5s - 7ms/step - accuracy: 0.9952 - loss: 0.0205 - val_accuracy: 0.7019 - val_loss: 2.4408\n",
            "Epoch 83/85\n",
            "739/739 - 5s - 7ms/step - accuracy: 0.9975 - loss: 0.0115 - val_accuracy: 0.7131 - val_loss: 2.3296\n",
            "Epoch 84/85\n",
            "739/739 - 5s - 6ms/step - accuracy: 0.9972 - loss: 0.0118 - val_accuracy: 0.6913 - val_loss: 2.3453\n",
            "Epoch 85/85\n",
            "739/739 - 6s - 8ms/step - accuracy: 0.9972 - loss: 0.0112 - val_accuracy: 0.7099 - val_loss: 2.5391\n"
          ]
        }
      ]
    },
    {
      "cell_type": "code",
      "source": [
        "model.evaluate(x_val_scaled.reshape(-1, 48, 48, 1), y_val)"
      ],
      "metadata": {
        "id": "QzJX0Tp4RHXR",
        "colab": {
          "base_uri": "https://localhost:8080/"
        },
        "outputId": "22f9798a-0d87-436f-e8be-7f9f7bb832ce"
      },
      "execution_count": null,
      "outputs": [
        {
          "output_type": "stream",
          "name": "stdout",
          "text": [
            "\u001b[1m185/185\u001b[0m \u001b[32m━━━━━━━━━━━━━━━━━━━━\u001b[0m\u001b[37m\u001b[0m \u001b[1m0s\u001b[0m 2ms/step - accuracy: 0.7145 - loss: 2.4787\n"
          ]
        },
        {
          "output_type": "execute_result",
          "data": {
            "text/plain": [
              "[2.5390536785125732, 0.7098848819732666]"
            ]
          },
          "metadata": {},
          "execution_count": 18
        }
      ]
    },
    {
      "cell_type": "code",
      "source": [
        "data = np.load(\"/content/drive/MyDrive/23-2학기 코딩 수업/인공신경망과 딥러닝심화/test.npz\")\n",
        "print(data.files)\n",
        "x_test = data['x']"
      ],
      "metadata": {
        "id": "64lnYkTcRHVc",
        "colab": {
          "base_uri": "https://localhost:8080/"
        },
        "outputId": "e84baeee-066e-4eac-b75f-c266fb4fb44f"
      },
      "execution_count": null,
      "outputs": [
        {
          "output_type": "stream",
          "name": "stdout",
          "text": [
            "['x']\n"
          ]
        }
      ]
    },
    {
      "cell_type": "code",
      "source": [
        "x_test_scaled = x_test / 255.0\n",
        "predictions = model.predict(x_test_scaled)"
      ],
      "metadata": {
        "id": "-XgCyvThRHT7",
        "colab": {
          "base_uri": "https://localhost:8080/"
        },
        "outputId": "a9010c8b-f370-41b7-e980-456ecb2bc7de"
      },
      "execution_count": null,
      "outputs": [
        {
          "output_type": "stream",
          "name": "stdout",
          "text": [
            "\u001b[1m231/231\u001b[0m \u001b[32m━━━━━━━━━━━━━━━━━━━━\u001b[0m\u001b[37m\u001b[0m \u001b[1m1s\u001b[0m 3ms/step\n"
          ]
        }
      ]
    },
    {
      "cell_type": "code",
      "source": [
        "predictions_csv = np.argmax(predictions, axis=1)\n",
        "print(predictions_csv)"
      ],
      "metadata": {
        "id": "wA_kM88rRHSE",
        "colab": {
          "base_uri": "https://localhost:8080/"
        },
        "outputId": "c6a9f5c7-085b-413c-b753-984b2ebc63b1"
      },
      "execution_count": null,
      "outputs": [
        {
          "output_type": "stream",
          "name": "stdout",
          "text": [
            "[4 4 4 ... 1 4 3]\n"
          ]
        }
      ]
    },
    {
      "cell_type": "code",
      "source": [
        "import pandas as pd\n",
        "pd.Series(predictions_csv).to_csv('./submission.csv')"
      ],
      "metadata": {
        "id": "gV1AsUWrZ3Tj"
      },
      "execution_count": null,
      "outputs": []
    },
    {
      "cell_type": "code",
      "source": [],
      "metadata": {
        "id": "Fu_RRyAK_Ua9"
      },
      "execution_count": null,
      "outputs": []
    }
  ]
}